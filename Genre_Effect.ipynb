{
 "cells": [
  {
   "cell_type": "code",
   "execution_count": 1,
   "metadata": {},
   "outputs": [],
   "source": [
    "import numpy as np\n",
    "import pandas as pd\n",
    "import matplotlib.pyplot as plt\n",
    "from sklearn.linear_model import LinearRegression"
   ]
  },
  {
   "cell_type": "code",
   "execution_count": 2,
   "metadata": {},
   "outputs": [],
   "source": [
    "list_movie= pd.read_csv(\".\\df_final_movie_imdb_01.csv\")"
   ]
  },
  {
   "cell_type": "code",
   "execution_count": 3,
   "metadata": {},
   "outputs": [
    {
     "name": "stdout",
     "output_type": "stream",
     "text": [
      "['Action', 'Adventure', 'Animation', 'Biography', 'Comedy', 'Crime', 'Documentary', 'Drama', 'Family', 'Fantasy', 'Film-Noir', 'Game-Show', 'History', 'Horror', 'Music', 'Musical', 'Mystery', 'News', 'Reality-TV', 'Romance', 'Sci-Fi', 'Short', 'Sport', 'Thriller', 'War', 'Western']\n"
     ]
    }
   ],
   "source": [
    "genre_list=sorted(list_movie.columns[11:37])\n",
    "print (genre_list)\n",
    "\n",
    "\n"
   ]
  },
  {
   "cell_type": "code",
   "execution_count": 4,
   "metadata": {},
   "outputs": [
    {
     "name": "stdout",
     "output_type": "stream",
     "text": [
      "          genre  num_of_genre  imdb_avg  imdb_std\n",
      "0        Action          1113  6.231626  1.118724\n",
      "1     Adventure           888  6.438851  1.136748\n",
      "2     Animation           240  6.575000  1.141910\n",
      "3     Biography           291  7.148797  0.723458\n",
      "4        Comedy          1848  6.192857  1.090977\n",
      "5         Crime           869  6.563061  1.028503\n",
      "6   Documentary           121  7.180165  1.052162\n",
      "7         Drama          2535  6.765602  0.953511\n",
      "8        Family           534  6.237640  1.208904\n",
      "9       Fantasy           583  6.302744  1.166069\n",
      "10    Film-Noir             6  7.633333  0.394405\n",
      "11    Game-Show             1  2.900000  0.000000\n",
      "12      History           202  7.091089  0.883692\n",
      "13       Horror           540  5.804630  1.119357\n",
      "14        Music           323  6.452632  1.200187\n",
      "15      Musical           131  6.500763  1.223217\n",
      "16      Mystery           485  6.483918  1.082451\n",
      "17         News             3  7.533333  0.418994\n",
      "18   Reality-TV             2  4.750000  1.850000\n",
      "19      Romance          1084  6.446679  0.997866\n",
      "20       Sci-Fi           595  6.279832  1.215680\n",
      "21        Short             5  6.380000  0.667533\n",
      "22        Sport           177  6.601130  1.106120\n",
      "23     Thriller          1364  6.307551  1.055836\n",
      "24          War           210  7.070952  0.873833\n",
      "25      Western            94  6.703191  1.050071\n"
     ]
    }
   ],
   "source": [
    "genres_imdb_scores=[]\n",
    "for genre in genre_list:\n",
    "    imdb=[]\n",
    "    num_of_genre=0\n",
    "    imdb_avg=0\n",
    "    imdb_std=0\n",
    "    m=dict()\n",
    "    for i in range(len(list_movie)):\n",
    "        if list_movie.iloc[i][genre]:\n",
    "            imdb.append(list_movie.iloc[i][\"imdb_score\"])\n",
    "    m={\"genre\":genre, \"num_of_genre\": len(imdb), \"imdb_avg\": np.mean(imdb), \"imdb_std\":np.std(imdb)}\n",
    "    genres_imdb_scores.append(m)\n",
    "\n",
    "df_genres_scores=pd.DataFrame(genres_imdb_scores)\n",
    "print(df_genres_scores)\n",
    "    \n",
    "    "
   ]
  },
  {
   "cell_type": "code",
   "execution_count": 5,
   "metadata": {},
   "outputs": [
    {
     "ename": "NameError",
     "evalue": "name 'df_generes_scores' is not defined",
     "output_type": "error",
     "traceback": [
      "\u001b[1;31m---------------------------------------------------------------------------\u001b[0m",
      "\u001b[1;31mNameError\u001b[0m                                 Traceback (most recent call last)",
      "\u001b[1;32m<ipython-input-5-a03861b24d5b>\u001b[0m in \u001b[0;36m<module>\u001b[1;34m\u001b[0m\n\u001b[0;32m      1\u001b[0m \u001b[0mplt\u001b[0m\u001b[1;33m.\u001b[0m\u001b[0mfigure\u001b[0m\u001b[1;33m(\u001b[0m\u001b[0mfigsize\u001b[0m\u001b[1;33m=\u001b[0m\u001b[1;33m(\u001b[0m\u001b[1;36m25\u001b[0m\u001b[1;33m,\u001b[0m\u001b[1;36m8\u001b[0m\u001b[1;33m)\u001b[0m\u001b[1;33m)\u001b[0m\u001b[1;33m\u001b[0m\u001b[1;33m\u001b[0m\u001b[0m\n\u001b[1;32m----> 2\u001b[1;33m \u001b[0mplt\u001b[0m\u001b[1;33m.\u001b[0m\u001b[0mbar\u001b[0m \u001b[1;33m(\u001b[0m\u001b[0mgenre_list\u001b[0m\u001b[1;33m,\u001b[0m \u001b[0mdf_generes_scores\u001b[0m\u001b[1;33m[\u001b[0m\u001b[1;34m\"imdb_avg\"\u001b[0m\u001b[1;33m]\u001b[0m\u001b[1;33m,\u001b[0m \u001b[0myerr\u001b[0m\u001b[1;33m=\u001b[0m\u001b[0mdf_generes_scores\u001b[0m\u001b[1;33m[\u001b[0m\u001b[1;34m\"imdb_std\"\u001b[0m\u001b[1;33m]\u001b[0m \u001b[1;33m)\u001b[0m\u001b[1;33m\u001b[0m\u001b[1;33m\u001b[0m\u001b[0m\n\u001b[0m\u001b[0;32m      3\u001b[0m \u001b[0mplt\u001b[0m\u001b[1;33m.\u001b[0m\u001b[0mtitle\u001b[0m\u001b[1;33m(\u001b[0m\u001b[1;34m\"effect of genre on IMDB\"\u001b[0m\u001b[1;33m)\u001b[0m\u001b[1;33m\u001b[0m\u001b[1;33m\u001b[0m\u001b[0m\n\u001b[0;32m      4\u001b[0m \u001b[0mplt\u001b[0m\u001b[1;33m.\u001b[0m\u001b[0mylabel\u001b[0m\u001b[1;33m(\u001b[0m\u001b[1;34m\"Average of IMDB's\"\u001b[0m\u001b[1;33m)\u001b[0m\u001b[1;33m\u001b[0m\u001b[1;33m\u001b[0m\u001b[0m\n\u001b[0;32m      5\u001b[0m \u001b[0mplt\u001b[0m\u001b[1;33m.\u001b[0m\u001b[0mxticks\u001b[0m\u001b[1;33m(\u001b[0m\u001b[0mrotation\u001b[0m\u001b[1;33m=\u001b[0m\u001b[1;34m'vertical'\u001b[0m\u001b[1;33m)\u001b[0m\u001b[1;33m\u001b[0m\u001b[1;33m\u001b[0m\u001b[0m\n",
      "\u001b[1;31mNameError\u001b[0m: name 'df_generes_scores' is not defined"
     ]
    },
    {
     "data": {
      "text/plain": [
       "<Figure size 1800x576 with 0 Axes>"
      ]
     },
     "metadata": {},
     "output_type": "display_data"
    }
   ],
   "source": [
    "plt.figure(figsize=(25,8))\n",
    "plt.bar (genre_list, df_generes_scores[\"imdb_avg\"], yerr=df_generes_scores[\"imdb_std\"] )\n",
    "plt.title(\"effect of genre on IMDB\")\n",
    "plt.ylabel(\"Average of IMDB's\")\n",
    "plt.xticks(rotation='vertical')\n",
    "plt.show()"
   ]
  },
  {
   "cell_type": "code",
   "execution_count": null,
   "metadata": {},
   "outputs": [],
   "source": [
    "#genres such as game shaow, reallity TV short films or news are from only afew movies, even 1 or 2.\n",
    "#To better analysis I decided to ignor ones with less than 50 movies are repeated in that genre. \n",
    "df_genres_with_enough_rep = pd.DataFrame(df_genres_scores[df_genres_scores[\"num_of_genre\"]>50])\n",
    "print(df_genres_with_enough_rep)"
   ]
  },
  {
   "cell_type": "code",
   "execution_count": null,
   "metadata": {},
   "outputs": [],
   "source": [
    "plt.figure(figsize=(25,8))\n",
    "plt.bar (df_genres_with_enough_rep[\"genre\"], df_genres_with_enough_rep[\"imdb_avg\"], yerr=df_genres_with_enough_rep[\"imdb_std\"] )\n",
    "plt.title(\"effect of genre on IMDB\")\n",
    "plt.ylabel(\"Average of IMDB's\")\n",
    "plt.xticks(rotation='vertical')\n",
    "plt.show()"
   ]
  },
  {
   "cell_type": "code",
   "execution_count": null,
   "metadata": {},
   "outputs": [],
   "source": [
    "#still not meaningfull difference between different genres is visible"
   ]
  }
 ],
 "metadata": {
  "kernelspec": {
   "display_name": "Python 3",
   "language": "python",
   "name": "python3"
  },
  "language_info": {
   "codemirror_mode": {
    "name": "ipython",
    "version": 3
   },
   "file_extension": ".py",
   "mimetype": "text/x-python",
   "name": "python",
   "nbconvert_exporter": "python",
   "pygments_lexer": "ipython3",
   "version": "3.8.3"
  }
 },
 "nbformat": 4,
 "nbformat_minor": 4
}
